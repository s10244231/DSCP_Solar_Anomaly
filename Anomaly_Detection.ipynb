{
  "cells": [
    {
      "cell_type": "code",
      "execution_count": 9,
      "metadata": {
        "id": "z-H1w0jBzgp-"
      },
      "outputs": [],
      "source": [
        "# Data processing\n",
        "import numpy as np\n",
        "import pandas as pd\n",
        "\n",
        "# Visualization\n",
        "import seaborn as sns\n",
        "import plotly.express as px"
      ]
    },
    {
      "cell_type": "code",
      "execution_count": 10,
      "metadata": {
        "colab": {
          "base_uri": "https://localhost:8080/",
          "height": 842
        },
        "id": "4Q9Iae4Vzgux",
        "outputId": "db934c86-d0f3-4742-cfad-10cf775fb7ee"
      },
      "outputs": [
        {
          "data": {
            "text/html": [
              "<div>\n",
              "<style scoped>\n",
              "    .dataframe tbody tr th:only-of-type {\n",
              "        vertical-align: middle;\n",
              "    }\n",
              "\n",
              "    .dataframe tbody tr th {\n",
              "        vertical-align: top;\n",
              "    }\n",
              "\n",
              "    .dataframe thead th {\n",
              "        text-align: right;\n",
              "    }\n",
              "</style>\n",
              "<table border=\"1\" class=\"dataframe\">\n",
              "  <thead>\n",
              "    <tr style=\"text-align: right;\">\n",
              "      <th></th>\n",
              "      <th>Unnamed: 0.1</th>\n",
              "      <th>Unnamed: 0</th>\n",
              "      <th>Date and Time</th>\n",
              "      <th>Location Code</th>\n",
              "      <th>IRR Value W/m²</th>\n",
              "      <th>Energy kWh</th>\n",
              "      <th>Expected Value kWh</th>\n",
              "      <th>PR %</th>\n",
              "      <th>Sensor ID</th>\n",
              "      <th>Daily Rainfall Total (mm)</th>\n",
              "      <th>Highest 30 min Rainfall (mm)</th>\n",
              "      <th>Highest 60 min Rainfall (mm)</th>\n",
              "      <th>Highest 120 min Rainfall (mm)</th>\n",
              "      <th>Mean Temperature (°C)</th>\n",
              "      <th>Maximum Temperature (°C)</th>\n",
              "      <th>Minimum Temperature (°C)</th>\n",
              "    </tr>\n",
              "  </thead>\n",
              "  <tbody>\n",
              "    <tr>\n",
              "      <th>0</th>\n",
              "      <td>0</td>\n",
              "      <td>0</td>\n",
              "      <td>2021-04-01</td>\n",
              "      <td>SN2-NAP72-599489</td>\n",
              "      <td>4292.870</td>\n",
              "      <td>228.93</td>\n",
              "      <td>277.64</td>\n",
              "      <td>82.46</td>\n",
              "      <td>DPM-599489-01</td>\n",
              "      <td>0.0</td>\n",
              "      <td>0.0</td>\n",
              "      <td>0.0</td>\n",
              "      <td>0.0</td>\n",
              "      <td>30.1</td>\n",
              "      <td>33.4</td>\n",
              "      <td>27.4</td>\n",
              "    </tr>\n",
              "    <tr>\n",
              "      <th>1</th>\n",
              "      <td>1</td>\n",
              "      <td>1</td>\n",
              "      <td>2021-04-02</td>\n",
              "      <td>SN2-NAP72-599489</td>\n",
              "      <td>2875.237</td>\n",
              "      <td>147.24</td>\n",
              "      <td>185.96</td>\n",
              "      <td>79.18</td>\n",
              "      <td>DPM-599489-01</td>\n",
              "      <td>29.4</td>\n",
              "      <td>12.2</td>\n",
              "      <td>14.4</td>\n",
              "      <td>25.8</td>\n",
              "      <td>28.6</td>\n",
              "      <td>35.9</td>\n",
              "      <td>23.7</td>\n",
              "    </tr>\n",
              "    <tr>\n",
              "      <th>2</th>\n",
              "      <td>2</td>\n",
              "      <td>2</td>\n",
              "      <td>2021-04-03</td>\n",
              "      <td>SN2-NAP72-599489</td>\n",
              "      <td>4425.905</td>\n",
              "      <td>246.64</td>\n",
              "      <td>286.25</td>\n",
              "      <td>86.16</td>\n",
              "      <td>DPM-599489-01</td>\n",
              "      <td>1.2</td>\n",
              "      <td>0.6</td>\n",
              "      <td>0.6</td>\n",
              "      <td>0.6</td>\n",
              "      <td>27.7</td>\n",
              "      <td>33.6</td>\n",
              "      <td>25.2</td>\n",
              "    </tr>\n",
              "    <tr>\n",
              "      <th>3</th>\n",
              "      <td>3</td>\n",
              "      <td>3</td>\n",
              "      <td>2021-04-04</td>\n",
              "      <td>SN2-NAP72-599489</td>\n",
              "      <td>4322.247</td>\n",
              "      <td>221.80</td>\n",
              "      <td>279.54</td>\n",
              "      <td>79.34</td>\n",
              "      <td>DPM-599489-01</td>\n",
              "      <td>13.8</td>\n",
              "      <td>6.4</td>\n",
              "      <td>8.0</td>\n",
              "      <td>11.0</td>\n",
              "      <td>27.7</td>\n",
              "      <td>32.5</td>\n",
              "      <td>23.5</td>\n",
              "    </tr>\n",
              "    <tr>\n",
              "      <th>4</th>\n",
              "      <td>4</td>\n",
              "      <td>4</td>\n",
              "      <td>2021-04-05</td>\n",
              "      <td>SN2-NAP72-599489</td>\n",
              "      <td>2445.808</td>\n",
              "      <td>138.26</td>\n",
              "      <td>158.18</td>\n",
              "      <td>87.41</td>\n",
              "      <td>DPM-599489-01</td>\n",
              "      <td>46.8</td>\n",
              "      <td>34.4</td>\n",
              "      <td>43.6</td>\n",
              "      <td>46.0</td>\n",
              "      <td>26.9</td>\n",
              "      <td>32.9</td>\n",
              "      <td>23.8</td>\n",
              "    </tr>\n",
              "    <tr>\n",
              "      <th>...</th>\n",
              "      <td>...</td>\n",
              "      <td>...</td>\n",
              "      <td>...</td>\n",
              "      <td>...</td>\n",
              "      <td>...</td>\n",
              "      <td>...</td>\n",
              "      <td>...</td>\n",
              "      <td>...</td>\n",
              "      <td>...</td>\n",
              "      <td>...</td>\n",
              "      <td>...</td>\n",
              "      <td>...</td>\n",
              "      <td>...</td>\n",
              "      <td>...</td>\n",
              "      <td>...</td>\n",
              "      <td>...</td>\n",
              "    </tr>\n",
              "    <tr>\n",
              "      <th>18856</th>\n",
              "      <td>18856</td>\n",
              "      <td>1815</td>\n",
              "      <td>2024-03-26</td>\n",
              "      <td>SN2-NAP58-599489</td>\n",
              "      <td>5827.338</td>\n",
              "      <td>355.00</td>\n",
              "      <td>403.40</td>\n",
              "      <td>88.00</td>\n",
              "      <td>DPM-599489-16</td>\n",
              "      <td>0.0</td>\n",
              "      <td>0.0</td>\n",
              "      <td>0.0</td>\n",
              "      <td>0.0</td>\n",
              "      <td>29.6</td>\n",
              "      <td>34.4</td>\n",
              "      <td>26.9</td>\n",
              "    </tr>\n",
              "    <tr>\n",
              "      <th>18857</th>\n",
              "      <td>18857</td>\n",
              "      <td>1816</td>\n",
              "      <td>2024-03-27</td>\n",
              "      <td>SN2-NAP58-599489</td>\n",
              "      <td>5737.909</td>\n",
              "      <td>348.18</td>\n",
              "      <td>397.21</td>\n",
              "      <td>87.66</td>\n",
              "      <td>DPM-599489-16</td>\n",
              "      <td>0.0</td>\n",
              "      <td>0.0</td>\n",
              "      <td>0.0</td>\n",
              "      <td>0.0</td>\n",
              "      <td>29.8</td>\n",
              "      <td>34.9</td>\n",
              "      <td>26.7</td>\n",
              "    </tr>\n",
              "    <tr>\n",
              "      <th>18858</th>\n",
              "      <td>18858</td>\n",
              "      <td>1817</td>\n",
              "      <td>2024-03-28</td>\n",
              "      <td>SN2-NAP58-599489</td>\n",
              "      <td>3548.717</td>\n",
              "      <td>229.85</td>\n",
              "      <td>245.66</td>\n",
              "      <td>89.99</td>\n",
              "      <td>DPM-599489-16</td>\n",
              "      <td>23.4</td>\n",
              "      <td>15.2</td>\n",
              "      <td>23.0</td>\n",
              "      <td>23.4</td>\n",
              "      <td>29.1</td>\n",
              "      <td>33.2</td>\n",
              "      <td>25.8</td>\n",
              "    </tr>\n",
              "    <tr>\n",
              "      <th>18859</th>\n",
              "      <td>18859</td>\n",
              "      <td>1818</td>\n",
              "      <td>2024-03-29</td>\n",
              "      <td>SN2-NAP58-599489</td>\n",
              "      <td>5928.919</td>\n",
              "      <td>346.88</td>\n",
              "      <td>410.43</td>\n",
              "      <td>84.52</td>\n",
              "      <td>DPM-599489-16</td>\n",
              "      <td>1.2</td>\n",
              "      <td>1.2</td>\n",
              "      <td>1.2</td>\n",
              "      <td>1.2</td>\n",
              "      <td>29.8</td>\n",
              "      <td>33.7</td>\n",
              "      <td>25.6</td>\n",
              "    </tr>\n",
              "    <tr>\n",
              "      <th>18860</th>\n",
              "      <td>18860</td>\n",
              "      <td>1819</td>\n",
              "      <td>2024-03-30</td>\n",
              "      <td>SN2-NAP58-599489</td>\n",
              "      <td>4755.083</td>\n",
              "      <td>285.22</td>\n",
              "      <td>329.17</td>\n",
              "      <td>86.65</td>\n",
              "      <td>DPM-599489-16</td>\n",
              "      <td>0.0</td>\n",
              "      <td>0.0</td>\n",
              "      <td>0.0</td>\n",
              "      <td>0.0</td>\n",
              "      <td>30.0</td>\n",
              "      <td>34.5</td>\n",
              "      <td>27.6</td>\n",
              "    </tr>\n",
              "  </tbody>\n",
              "</table>\n",
              "<p>18861 rows × 16 columns</p>\n",
              "</div>"
            ],
            "text/plain": [
              "       Unnamed: 0.1  Unnamed: 0 Date and Time     Location Code  \\\n",
              "0                 0           0    2021-04-01  SN2-NAP72-599489   \n",
              "1                 1           1    2021-04-02  SN2-NAP72-599489   \n",
              "2                 2           2    2021-04-03  SN2-NAP72-599489   \n",
              "3                 3           3    2021-04-04  SN2-NAP72-599489   \n",
              "4                 4           4    2021-04-05  SN2-NAP72-599489   \n",
              "...             ...         ...           ...               ...   \n",
              "18856         18856        1815    2024-03-26  SN2-NAP58-599489   \n",
              "18857         18857        1816    2024-03-27  SN2-NAP58-599489   \n",
              "18858         18858        1817    2024-03-28  SN2-NAP58-599489   \n",
              "18859         18859        1818    2024-03-29  SN2-NAP58-599489   \n",
              "18860         18860        1819    2024-03-30  SN2-NAP58-599489   \n",
              "\n",
              "       IRR Value W/m²  Energy kWh  Expected Value kWh   PR %      Sensor ID  \\\n",
              "0            4292.870      228.93              277.64  82.46  DPM-599489-01   \n",
              "1            2875.237      147.24              185.96  79.18  DPM-599489-01   \n",
              "2            4425.905      246.64              286.25  86.16  DPM-599489-01   \n",
              "3            4322.247      221.80              279.54  79.34  DPM-599489-01   \n",
              "4            2445.808      138.26              158.18  87.41  DPM-599489-01   \n",
              "...               ...         ...                 ...    ...            ...   \n",
              "18856        5827.338      355.00              403.40  88.00  DPM-599489-16   \n",
              "18857        5737.909      348.18              397.21  87.66  DPM-599489-16   \n",
              "18858        3548.717      229.85              245.66  89.99  DPM-599489-16   \n",
              "18859        5928.919      346.88              410.43  84.52  DPM-599489-16   \n",
              "18860        4755.083      285.22              329.17  86.65  DPM-599489-16   \n",
              "\n",
              "       Daily Rainfall Total (mm)  Highest 30 min Rainfall (mm)  \\\n",
              "0                            0.0                           0.0   \n",
              "1                           29.4                          12.2   \n",
              "2                            1.2                           0.6   \n",
              "3                           13.8                           6.4   \n",
              "4                           46.8                          34.4   \n",
              "...                          ...                           ...   \n",
              "18856                        0.0                           0.0   \n",
              "18857                        0.0                           0.0   \n",
              "18858                       23.4                          15.2   \n",
              "18859                        1.2                           1.2   \n",
              "18860                        0.0                           0.0   \n",
              "\n",
              "       Highest 60 min Rainfall (mm)  Highest 120 min Rainfall (mm)  \\\n",
              "0                               0.0                            0.0   \n",
              "1                              14.4                           25.8   \n",
              "2                               0.6                            0.6   \n",
              "3                               8.0                           11.0   \n",
              "4                              43.6                           46.0   \n",
              "...                             ...                            ...   \n",
              "18856                           0.0                            0.0   \n",
              "18857                           0.0                            0.0   \n",
              "18858                          23.0                           23.4   \n",
              "18859                           1.2                            1.2   \n",
              "18860                           0.0                            0.0   \n",
              "\n",
              "       Mean Temperature (°C)  Maximum Temperature (°C)  \\\n",
              "0                       30.1                      33.4   \n",
              "1                       28.6                      35.9   \n",
              "2                       27.7                      33.6   \n",
              "3                       27.7                      32.5   \n",
              "4                       26.9                      32.9   \n",
              "...                      ...                       ...   \n",
              "18856                   29.6                      34.4   \n",
              "18857                   29.8                      34.9   \n",
              "18858                   29.1                      33.2   \n",
              "18859                   29.8                      33.7   \n",
              "18860                   30.0                      34.5   \n",
              "\n",
              "       Minimum Temperature (°C)  \n",
              "0                          27.4  \n",
              "1                          23.7  \n",
              "2                          25.2  \n",
              "3                          23.5  \n",
              "4                          23.8  \n",
              "...                         ...  \n",
              "18856                      26.9  \n",
              "18857                      26.7  \n",
              "18858                      25.8  \n",
              "18859                      25.6  \n",
              "18860                      27.6  \n",
              "\n",
              "[18861 rows x 16 columns]"
            ]
          },
          "execution_count": 10,
          "metadata": {},
          "output_type": "execute_result"
        }
      ],
      "source": [
        "df = pd.read_csv('EstateSolarWeather.csv')\n",
        "\n",
        "df"
      ]
    },
    {
      "cell_type": "code",
      "execution_count": 11,
      "metadata": {
        "colab": {
          "base_uri": "https://localhost:8080/"
        },
        "id": "rqeFIN5pHfQX",
        "outputId": "1034bf16-f287-44f6-e896-8d6be462b92c"
      },
      "outputs": [
        {
          "name": "stdout",
          "output_type": "stream",
          "text": [
            "<class 'pandas.core.frame.DataFrame'>\n",
            "RangeIndex: 18861 entries, 0 to 18860\n",
            "Data columns (total 16 columns):\n",
            " #   Column                         Non-Null Count  Dtype  \n",
            "---  ------                         --------------  -----  \n",
            " 0   Unnamed: 0.1                   18861 non-null  int64  \n",
            " 1   Unnamed: 0                     18861 non-null  int64  \n",
            " 2   Date and Time                  18861 non-null  object \n",
            " 3   Location Code                  18861 non-null  object \n",
            " 4   IRR Value W/m²                 18861 non-null  float64\n",
            " 5   Energy kWh                     18861 non-null  float64\n",
            " 6   Expected Value kWh             18861 non-null  float64\n",
            " 7   PR %                           18861 non-null  float64\n",
            " 8   Sensor ID                      18861 non-null  object \n",
            " 9   Daily Rainfall Total (mm)      18861 non-null  float64\n",
            " 10  Highest 30 min Rainfall (mm)   18861 non-null  float64\n",
            " 11  Highest 60 min Rainfall (mm)   18861 non-null  float64\n",
            " 12  Highest 120 min Rainfall (mm)  18861 non-null  float64\n",
            " 13  Mean Temperature (°C)          18861 non-null  float64\n",
            " 14  Maximum Temperature (°C)       18861 non-null  float64\n",
            " 15  Minimum Temperature (°C)       18861 non-null  float64\n",
            "dtypes: float64(11), int64(2), object(3)\n",
            "memory usage: 2.3+ MB\n"
          ]
        }
      ],
      "source": [
        "df.info()"
      ]
    },
    {
      "cell_type": "code",
      "execution_count": 12,
      "metadata": {
        "colab": {
          "base_uri": "https://localhost:8080/",
          "height": 452
        },
        "id": "qp3HkbGfzgzm",
        "outputId": "6d7fa601-fadd-4abb-95ae-cba47752a410"
      },
      "outputs": [
        {
          "data": {
            "text/html": [
              "<div>\n",
              "<style scoped>\n",
              "    .dataframe tbody tr th:only-of-type {\n",
              "        vertical-align: middle;\n",
              "    }\n",
              "\n",
              "    .dataframe tbody tr th {\n",
              "        vertical-align: top;\n",
              "    }\n",
              "\n",
              "    .dataframe thead th {\n",
              "        text-align: right;\n",
              "    }\n",
              "</style>\n",
              "<table border=\"1\" class=\"dataframe\">\n",
              "  <thead>\n",
              "    <tr style=\"text-align: right;\">\n",
              "      <th></th>\n",
              "      <th>Date and Time</th>\n",
              "      <th>Location Code</th>\n",
              "      <th>IRR Value W/m²</th>\n",
              "      <th>Energy kWh</th>\n",
              "      <th>Expected Value kWh</th>\n",
              "      <th>PR %</th>\n",
              "      <th>Sensor ID</th>\n",
              "      <th>Daily Rainfall Total (mm)</th>\n",
              "      <th>Highest 30 min Rainfall (mm)</th>\n",
              "      <th>Highest 60 min Rainfall (mm)</th>\n",
              "      <th>Highest 120 min Rainfall (mm)</th>\n",
              "      <th>Mean Temperature (°C)</th>\n",
              "      <th>Maximum Temperature (°C)</th>\n",
              "      <th>Minimum Temperature (°C)</th>\n",
              "    </tr>\n",
              "  </thead>\n",
              "  <tbody>\n",
              "    <tr>\n",
              "      <th>0</th>\n",
              "      <td>2021-04-01</td>\n",
              "      <td>SN2-NAP72-599489</td>\n",
              "      <td>4292.870</td>\n",
              "      <td>228.93</td>\n",
              "      <td>277.64</td>\n",
              "      <td>82.46</td>\n",
              "      <td>DPM-599489-01</td>\n",
              "      <td>0.0</td>\n",
              "      <td>0.0</td>\n",
              "      <td>0.0</td>\n",
              "      <td>0.0</td>\n",
              "      <td>30.1</td>\n",
              "      <td>33.4</td>\n",
              "      <td>27.4</td>\n",
              "    </tr>\n",
              "    <tr>\n",
              "      <th>1</th>\n",
              "      <td>2021-04-02</td>\n",
              "      <td>SN2-NAP72-599489</td>\n",
              "      <td>2875.237</td>\n",
              "      <td>147.24</td>\n",
              "      <td>185.96</td>\n",
              "      <td>79.18</td>\n",
              "      <td>DPM-599489-01</td>\n",
              "      <td>29.4</td>\n",
              "      <td>12.2</td>\n",
              "      <td>14.4</td>\n",
              "      <td>25.8</td>\n",
              "      <td>28.6</td>\n",
              "      <td>35.9</td>\n",
              "      <td>23.7</td>\n",
              "    </tr>\n",
              "    <tr>\n",
              "      <th>2</th>\n",
              "      <td>2021-04-03</td>\n",
              "      <td>SN2-NAP72-599489</td>\n",
              "      <td>4425.905</td>\n",
              "      <td>246.64</td>\n",
              "      <td>286.25</td>\n",
              "      <td>86.16</td>\n",
              "      <td>DPM-599489-01</td>\n",
              "      <td>1.2</td>\n",
              "      <td>0.6</td>\n",
              "      <td>0.6</td>\n",
              "      <td>0.6</td>\n",
              "      <td>27.7</td>\n",
              "      <td>33.6</td>\n",
              "      <td>25.2</td>\n",
              "    </tr>\n",
              "    <tr>\n",
              "      <th>3</th>\n",
              "      <td>2021-04-04</td>\n",
              "      <td>SN2-NAP72-599489</td>\n",
              "      <td>4322.247</td>\n",
              "      <td>221.80</td>\n",
              "      <td>279.54</td>\n",
              "      <td>79.34</td>\n",
              "      <td>DPM-599489-01</td>\n",
              "      <td>13.8</td>\n",
              "      <td>6.4</td>\n",
              "      <td>8.0</td>\n",
              "      <td>11.0</td>\n",
              "      <td>27.7</td>\n",
              "      <td>32.5</td>\n",
              "      <td>23.5</td>\n",
              "    </tr>\n",
              "    <tr>\n",
              "      <th>4</th>\n",
              "      <td>2021-04-05</td>\n",
              "      <td>SN2-NAP72-599489</td>\n",
              "      <td>2445.808</td>\n",
              "      <td>138.26</td>\n",
              "      <td>158.18</td>\n",
              "      <td>87.41</td>\n",
              "      <td>DPM-599489-01</td>\n",
              "      <td>46.8</td>\n",
              "      <td>34.4</td>\n",
              "      <td>43.6</td>\n",
              "      <td>46.0</td>\n",
              "      <td>26.9</td>\n",
              "      <td>32.9</td>\n",
              "      <td>23.8</td>\n",
              "    </tr>\n",
              "  </tbody>\n",
              "</table>\n",
              "</div>"
            ],
            "text/plain": [
              "  Date and Time     Location Code  IRR Value W/m²  Energy kWh  \\\n",
              "0    2021-04-01  SN2-NAP72-599489        4292.870      228.93   \n",
              "1    2021-04-02  SN2-NAP72-599489        2875.237      147.24   \n",
              "2    2021-04-03  SN2-NAP72-599489        4425.905      246.64   \n",
              "3    2021-04-04  SN2-NAP72-599489        4322.247      221.80   \n",
              "4    2021-04-05  SN2-NAP72-599489        2445.808      138.26   \n",
              "\n",
              "   Expected Value kWh   PR %      Sensor ID  Daily Rainfall Total (mm)  \\\n",
              "0              277.64  82.46  DPM-599489-01                        0.0   \n",
              "1              185.96  79.18  DPM-599489-01                       29.4   \n",
              "2              286.25  86.16  DPM-599489-01                        1.2   \n",
              "3              279.54  79.34  DPM-599489-01                       13.8   \n",
              "4              158.18  87.41  DPM-599489-01                       46.8   \n",
              "\n",
              "   Highest 30 min Rainfall (mm)  Highest 60 min Rainfall (mm)  \\\n",
              "0                           0.0                           0.0   \n",
              "1                          12.2                          14.4   \n",
              "2                           0.6                           0.6   \n",
              "3                           6.4                           8.0   \n",
              "4                          34.4                          43.6   \n",
              "\n",
              "   Highest 120 min Rainfall (mm)  Mean Temperature (°C)  \\\n",
              "0                            0.0                   30.1   \n",
              "1                           25.8                   28.6   \n",
              "2                            0.6                   27.7   \n",
              "3                           11.0                   27.7   \n",
              "4                           46.0                   26.9   \n",
              "\n",
              "   Maximum Temperature (°C)  Minimum Temperature (°C)  \n",
              "0                      33.4                      27.4  \n",
              "1                      35.9                      23.7  \n",
              "2                      33.6                      25.2  \n",
              "3                      32.5                      23.5  \n",
              "4                      32.9                      23.8  "
            ]
          },
          "execution_count": 12,
          "metadata": {},
          "output_type": "execute_result"
        }
      ],
      "source": [
        "# Drop the column\n",
        "df.drop(columns=['Unnamed: 0.1', 'Unnamed: 0'], inplace=True)\n",
        "\n",
        "df.head()"
      ]
    },
    {
      "cell_type": "code",
      "execution_count": 13,
      "metadata": {
        "colab": {
          "base_uri": "https://localhost:8080/",
          "height": 216
        },
        "id": "wI3RAbZDCxr0",
        "outputId": "ae76a76a-ec9a-4f77-a8cf-98ef8464ca72"
      },
      "outputs": [
        {
          "data": {
            "text/plain": [
              "<AxesSubplot:xlabel='Date and Time'>"
            ]
          },
          "execution_count": 13,
          "metadata": {},
          "output_type": "execute_result"
        },
        {
          "data": {
            "image/png": "[encoded data removed]",
            "text/plain": [
              "<Figure size 1656x432 with 1 Axes>"
            ]
          },
          "metadata": {
            "needs_background": "light"
          },
          "output_type": "display_data"
        }
      ],
      "source": [
        "df.plot(x='Date and Time',y='Energy kWh',figsize=(23,6))"
      ]
    },
    {
      "cell_type": "code",
      "execution_count": 14,
      "metadata": {
        "colab": {
          "base_uri": "https://localhost:8080/",
          "height": 218
        },
        "id": "J7hbZgeeCxt4",
        "outputId": "a7185662-0bc1-42cc-bd14-fb53eef832ec"
      },
      "outputs": [
        {
          "data": {
            "text/plain": [
              "<AxesSubplot:xlabel='Date and Time'>"
            ]
          },
          "execution_count": 14,
          "metadata": {},
          "output_type": "execute_result"
        },
        {
          "data": {
            "image/png": "[encoded data removed]",
            "text/plain": [
              "<Figure size 1656x432 with 1 Axes>"
            ]
          },
          "metadata": {
            "needs_background": "light"
          },
          "output_type": "display_data"
        }
      ],
      "source": [
        "df.plot(x='Date and Time',y='Expected Value kWh',figsize=(23,6))"
      ]
    },
    {
      "cell_type": "code",
      "execution_count": 15,
      "metadata": {
        "colab": {
          "base_uri": "https://localhost:8080/",
          "height": 220
        },
        "id": "pMspHvm6hUNX",
        "outputId": "7f7fe474-7359-4036-a16d-a4c9a7a78041"
      },
      "outputs": [
        {
          "data": {
            "text/plain": [
              "<AxesSubplot:xlabel='Date and Time'>"
            ]
          },
          "execution_count": 15,
          "metadata": {},
          "output_type": "execute_result"
        },
        {
          "data": {
            "image/png": "[encoded data removed]",
            "text/plain": [
              "<Figure size 1656x432 with 1 Axes>"
            ]
          },
          "metadata": {
            "needs_background": "light"
          },
          "output_type": "display_data"
        }
      ],
      "source": [
        "df.plot(x='Date and Time',y='PR %',figsize=(23,6))"
      ]
    },
    {
      "cell_type": "markdown",
      "metadata": {
        "id": "t8-cg_8kCOYK"
      },
      "source": [
        "Anomalies include:\n",
        "\n",
        "\n",
        "1.   Performance Ratio (PR%) is below 80%\n",
        "2.   Energy produced is higher than the expected value\n",
        "\n"
      ]
    },
    {
      "cell_type": "code",
      "execution_count": 16,
      "metadata": {
        "colab": {
          "base_uri": "https://localhost:8080/",
          "height": 842
        },
        "id": "1ik-xaOShUP2",
        "outputId": "cc985797-e463-4e49-8bb9-03dd7f352ab2"
      },
      "outputs": [
        {
          "data": {
            "text/html": [
              "<div>\n",
              "<style scoped>\n",
              "    .dataframe tbody tr th:only-of-type {\n",
              "        vertical-align: middle;\n",
              "    }\n",
              "\n",
              "    .dataframe tbody tr th {\n",
              "        vertical-align: top;\n",
              "    }\n",
              "\n",
              "    .dataframe thead th {\n",
              "        text-align: right;\n",
              "    }\n",
              "</style>\n",
              "<table border=\"1\" class=\"dataframe\">\n",
              "  <thead>\n",
              "    <tr style=\"text-align: right;\">\n",
              "      <th></th>\n",
              "      <th>Date and Time</th>\n",
              "      <th>Location Code</th>\n",
              "      <th>IRR Value W/m²</th>\n",
              "      <th>Energy kWh</th>\n",
              "      <th>Expected Value kWh</th>\n",
              "      <th>PR %</th>\n",
              "      <th>Sensor ID</th>\n",
              "      <th>Daily Rainfall Total (mm)</th>\n",
              "      <th>Highest 30 min Rainfall (mm)</th>\n",
              "      <th>Highest 60 min Rainfall (mm)</th>\n",
              "      <th>Highest 120 min Rainfall (mm)</th>\n",
              "      <th>Mean Temperature (°C)</th>\n",
              "      <th>Maximum Temperature (°C)</th>\n",
              "      <th>Minimum Temperature (°C)</th>\n",
              "      <th>Status</th>\n",
              "    </tr>\n",
              "  </thead>\n",
              "  <tbody>\n",
              "    <tr>\n",
              "      <th>0</th>\n",
              "      <td>2021-04-01</td>\n",
              "      <td>SN2-NAP72-599489</td>\n",
              "      <td>4292.870</td>\n",
              "      <td>228.93</td>\n",
              "      <td>277.64</td>\n",
              "      <td>82.46</td>\n",
              "      <td>DPM-599489-01</td>\n",
              "      <td>0.0</td>\n",
              "      <td>0.0</td>\n",
              "      <td>0.0</td>\n",
              "      <td>0.0</td>\n",
              "      <td>30.1</td>\n",
              "      <td>33.4</td>\n",
              "      <td>27.4</td>\n",
              "      <td>Normal</td>\n",
              "    </tr>\n",
              "    <tr>\n",
              "      <th>1</th>\n",
              "      <td>2021-04-02</td>\n",
              "      <td>SN2-NAP72-599489</td>\n",
              "      <td>2875.237</td>\n",
              "      <td>147.24</td>\n",
              "      <td>185.96</td>\n",
              "      <td>79.18</td>\n",
              "      <td>DPM-599489-01</td>\n",
              "      <td>29.4</td>\n",
              "      <td>12.2</td>\n",
              "      <td>14.4</td>\n",
              "      <td>25.8</td>\n",
              "      <td>28.6</td>\n",
              "      <td>35.9</td>\n",
              "      <td>23.7</td>\n",
              "      <td>Underperforming</td>\n",
              "    </tr>\n",
              "    <tr>\n",
              "      <th>2</th>\n",
              "      <td>2021-04-03</td>\n",
              "      <td>SN2-NAP72-599489</td>\n",
              "      <td>4425.905</td>\n",
              "      <td>246.64</td>\n",
              "      <td>286.25</td>\n",
              "      <td>86.16</td>\n",
              "      <td>DPM-599489-01</td>\n",
              "      <td>1.2</td>\n",
              "      <td>0.6</td>\n",
              "      <td>0.6</td>\n",
              "      <td>0.6</td>\n",
              "      <td>27.7</td>\n",
              "      <td>33.6</td>\n",
              "      <td>25.2</td>\n",
              "      <td>Normal</td>\n",
              "    </tr>\n",
              "    <tr>\n",
              "      <th>3</th>\n",
              "      <td>2021-04-04</td>\n",
              "      <td>SN2-NAP72-599489</td>\n",
              "      <td>4322.247</td>\n",
              "      <td>221.80</td>\n",
              "      <td>279.54</td>\n",
              "      <td>79.34</td>\n",
              "      <td>DPM-599489-01</td>\n",
              "      <td>13.8</td>\n",
              "      <td>6.4</td>\n",
              "      <td>8.0</td>\n",
              "      <td>11.0</td>\n",
              "      <td>27.7</td>\n",
              "      <td>32.5</td>\n",
              "      <td>23.5</td>\n",
              "      <td>Underperforming</td>\n",
              "    </tr>\n",
              "    <tr>\n",
              "      <th>4</th>\n",
              "      <td>2021-04-05</td>\n",
              "      <td>SN2-NAP72-599489</td>\n",
              "      <td>2445.808</td>\n",
              "      <td>138.26</td>\n",
              "      <td>158.18</td>\n",
              "      <td>87.41</td>\n",
              "      <td>DPM-599489-01</td>\n",
              "      <td>46.8</td>\n",
              "      <td>34.4</td>\n",
              "      <td>43.6</td>\n",
              "      <td>46.0</td>\n",
              "      <td>26.9</td>\n",
              "      <td>32.9</td>\n",
              "      <td>23.8</td>\n",
              "      <td>Normal</td>\n",
              "    </tr>\n",
              "    <tr>\n",
              "      <th>...</th>\n",
              "      <td>...</td>\n",
              "      <td>...</td>\n",
              "      <td>...</td>\n",
              "      <td>...</td>\n",
              "      <td>...</td>\n",
              "      <td>...</td>\n",
              "      <td>...</td>\n",
              "      <td>...</td>\n",
              "      <td>...</td>\n",
              "      <td>...</td>\n",
              "      <td>...</td>\n",
              "      <td>...</td>\n",
              "      <td>...</td>\n",
              "      <td>...</td>\n",
              "      <td>...</td>\n",
              "    </tr>\n",
              "    <tr>\n",
              "      <th>18856</th>\n",
              "      <td>2024-03-26</td>\n",
              "      <td>SN2-NAP58-599489</td>\n",
              "      <td>5827.338</td>\n",
              "      <td>355.00</td>\n",
              "      <td>403.40</td>\n",
              "      <td>88.00</td>\n",
              "      <td>DPM-599489-16</td>\n",
              "      <td>0.0</td>\n",
              "      <td>0.0</td>\n",
              "      <td>0.0</td>\n",
              "      <td>0.0</td>\n",
              "      <td>29.6</td>\n",
              "      <td>34.4</td>\n",
              "      <td>26.9</td>\n",
              "      <td>Normal</td>\n",
              "    </tr>\n",
              "    <tr>\n",
              "      <th>18857</th>\n",
              "      <td>2024-03-27</td>\n",
              "      <td>SN2-NAP58-599489</td>\n",
              "      <td>5737.909</td>\n",
              "      <td>348.18</td>\n",
              "      <td>397.21</td>\n",
              "      <td>87.66</td>\n",
              "      <td>DPM-599489-16</td>\n",
              "      <td>0.0</td>\n",
              "      <td>0.0</td>\n",
              "      <td>0.0</td>\n",
              "      <td>0.0</td>\n",
              "      <td>29.8</td>\n",
              "      <td>34.9</td>\n",
              "      <td>26.7</td>\n",
              "      <td>Normal</td>\n",
              "    </tr>\n",
              "    <tr>\n",
              "      <th>18858</th>\n",
              "      <td>2024-03-28</td>\n",
              "      <td>SN2-NAP58-599489</td>\n",
              "      <td>3548.717</td>\n",
              "      <td>229.85</td>\n",
              "      <td>245.66</td>\n",
              "      <td>89.99</td>\n",
              "      <td>DPM-599489-16</td>\n",
              "      <td>23.4</td>\n",
              "      <td>15.2</td>\n",
              "      <td>23.0</td>\n",
              "      <td>23.4</td>\n",
              "      <td>29.1</td>\n",
              "      <td>33.2</td>\n",
              "      <td>25.8</td>\n",
              "      <td>Normal</td>\n",
              "    </tr>\n",
              "    <tr>\n",
              "      <th>18859</th>\n",
              "      <td>2024-03-29</td>\n",
              "      <td>SN2-NAP58-599489</td>\n",
              "      <td>5928.919</td>\n",
              "      <td>346.88</td>\n",
              "      <td>410.43</td>\n",
              "      <td>84.52</td>\n",
              "      <td>DPM-599489-16</td>\n",
              "      <td>1.2</td>\n",
              "      <td>1.2</td>\n",
              "      <td>1.2</td>\n",
              "      <td>1.2</td>\n",
              "      <td>29.8</td>\n",
              "      <td>33.7</td>\n",
              "      <td>25.6</td>\n",
              "      <td>Normal</td>\n",
              "    </tr>\n",
              "    <tr>\n",
              "      <th>18860</th>\n",
              "      <td>2024-03-30</td>\n",
              "      <td>SN2-NAP58-599489</td>\n",
              "      <td>4755.083</td>\n",
              "      <td>285.22</td>\n",
              "      <td>329.17</td>\n",
              "      <td>86.65</td>\n",
              "      <td>DPM-599489-16</td>\n",
              "      <td>0.0</td>\n",
              "      <td>0.0</td>\n",
              "      <td>0.0</td>\n",
              "      <td>0.0</td>\n",
              "      <td>30.0</td>\n",
              "      <td>34.5</td>\n",
              "      <td>27.6</td>\n",
              "      <td>Normal</td>\n",
              "    </tr>\n",
              "  </tbody>\n",
              "</table>\n",
              "<p>18861 rows × 15 columns</p>\n",
              "</div>"
            ],
            "text/plain": [
              "      Date and Time     Location Code  IRR Value W/m²  Energy kWh  \\\n",
              "0        2021-04-01  SN2-NAP72-599489        4292.870      228.93   \n",
              "1        2021-04-02  SN2-NAP72-599489        2875.237      147.24   \n",
              "2        2021-04-03  SN2-NAP72-599489        4425.905      246.64   \n",
              "3        2021-04-04  SN2-NAP72-599489        4322.247      221.80   \n",
              "4        2021-04-05  SN2-NAP72-599489        2445.808      138.26   \n",
              "...             ...               ...             ...         ...   \n",
              "18856    2024-03-26  SN2-NAP58-599489        5827.338      355.00   \n",
              "18857    2024-03-27  SN2-NAP58-599489        5737.909      348.18   \n",
              "18858    2024-03-28  SN2-NAP58-599489        3548.717      229.85   \n",
              "18859    2024-03-29  SN2-NAP58-599489        5928.919      346.88   \n",
              "18860    2024-03-30  SN2-NAP58-599489        4755.083      285.22   \n",
              "\n",
              "       Expected Value kWh   PR %      Sensor ID  Daily Rainfall Total (mm)  \\\n",
              "0                  277.64  82.46  DPM-599489-01                        0.0   \n",
              "1                  185.96  79.18  DPM-599489-01                       29.4   \n",
              "2                  286.25  86.16  DPM-599489-01                        1.2   \n",
              "3                  279.54  79.34  DPM-599489-01                       13.8   \n",
              "4                  158.18  87.41  DPM-599489-01                       46.8   \n",
              "...                   ...    ...            ...                        ...   \n",
              "18856              403.40  88.00  DPM-599489-16                        0.0   \n",
              "18857              397.21  87.66  DPM-599489-16                        0.0   \n",
              "18858              245.66  89.99  DPM-599489-16                       23.4   \n",
              "18859              410.43  84.52  DPM-599489-16                        1.2   \n",
              "18860              329.17  86.65  DPM-599489-16                        0.0   \n",
              "\n",
              "       Highest 30 min Rainfall (mm)  Highest 60 min Rainfall (mm)  \\\n",
              "0                               0.0                           0.0   \n",
              "1                              12.2                          14.4   \n",
              "2                               0.6                           0.6   \n",
              "3                               6.4                           8.0   \n",
              "4                              34.4                          43.6   \n",
              "...                             ...                           ...   \n",
              "18856                           0.0                           0.0   \n",
              "18857                           0.0                           0.0   \n",
              "18858                          15.2                          23.0   \n",
              "18859                           1.2                           1.2   \n",
              "18860                           0.0                           0.0   \n",
              "\n",
              "       Highest 120 min Rainfall (mm)  Mean Temperature (°C)  \\\n",
              "0                                0.0                   30.1   \n",
              "1                               25.8                   28.6   \n",
              "2                                0.6                   27.7   \n",
              "3                               11.0                   27.7   \n",
              "4                               46.0                   26.9   \n",
              "...                              ...                    ...   \n",
              "18856                            0.0                   29.6   \n",
              "18857                            0.0                   29.8   \n",
              "18858                           23.4                   29.1   \n",
              "18859                            1.2                   29.8   \n",
              "18860                            0.0                   30.0   \n",
              "\n",
              "       Maximum Temperature (°C)  Minimum Temperature (°C)           Status  \n",
              "0                          33.4                      27.4           Normal  \n",
              "1                          35.9                      23.7  Underperforming  \n",
              "2                          33.6                      25.2           Normal  \n",
              "3                          32.5                      23.5  Underperforming  \n",
              "4                          32.9                      23.8           Normal  \n",
              "...                         ...                       ...              ...  \n",
              "18856                      34.4                      26.9           Normal  \n",
              "18857                      34.9                      26.7           Normal  \n",
              "18858                      33.2                      25.8           Normal  \n",
              "18859                      33.7                      25.6           Normal  \n",
              "18860                      34.5                      27.6           Normal  \n",
              "\n",
              "[18861 rows x 15 columns]"
            ]
          },
          "execution_count": 16,
          "metadata": {},
          "output_type": "execute_result"
        }
      ],
      "source": [
        "# Initialize the Status column based on the new conditions\n",
        "df['Status'] = df.apply(\n",
        "    lambda row: (\n",
        "        'Underperforming' if row['PR %'] < 80 else \n",
        "        'Anomaly Reading' if row['Energy kWh'] > row['Expected Value kWh'] else\n",
        "        'Normal'\n",
        "    ),\n",
        "    axis=1\n",
        ")\n",
        "\n",
        "# Check for errors where the PR % is less than 80\n",
        "error_indices = df[df['PR %'] < 80].index\n",
        "\n",
        "df"
      ]
    },
    {
      "cell_type": "code",
      "execution_count": 17,
      "metadata": {
        "id": "6QpObtBYc2nf"
      },
      "outputs": [
        {
          "data": {
            "application/vnd.plotly.v1+json": {
              "config": {
                "plotlyServerURL": "https://plot.ly"
              },
              "data": [
                {
                  "alignmentgroup": "True",
                  "hovertemplate": "Status=%{y}<br>counts=%{text}<extra></extra>",
                  "legendgroup": "Anomaly Reading",
                  "marker": {
                    "color": "rgb(27,158,119)",
                    "pattern": {
                      "shape": ""
                    }
                  },
                  "name": "Anomaly Reading",
                  "offsetgroup": "Anomaly Reading",
                  "orientation": "h",
                  "showlegend": true,
                  "text": [
                    1261
                  ],
                  "textposition": "auto",
                  "type": "bar",
                  "x": [
                    1261
                  ],
                  "xaxis": "x",
                  "y": [
                    "Anomaly Reading"
                  ],
                  "yaxis": "y"
                },
                {
                  "alignmentgroup": "True",
                  "hovertemplate": "Status=%{y}<br>counts=%{text}<extra></extra>",
                  "legendgroup": "Normal",
                  "marker": {
                    "color": "rgb(217,95,2)",
                    "pattern": {
                      "shape": ""
                    }
                  },
                  "name": "Normal",
                  "offsetgroup": "Normal",
                  "orientation": "h",
                  "showlegend": true,
                  "text": [
                    16122
                  ],
                  "textposition": "auto",
                  "type": "bar",
                  "x": [
                    16122
                  ],
                  "xaxis": "x",
                  "y": [
                    "Normal"
                  ],
                  "yaxis": "y"
                },
                {
                  "alignmentgroup": "True",
                  "hovertemplate": "Status=%{y}<br>counts=%{text}<extra></extra>",
                  "legendgroup": "Underperforming",
                  "marker": {
                    "color": "rgb(117,112,179)",
                    "pattern": {
                      "shape": ""
                    }
                  },
                  "name": "Underperforming",
                  "offsetgroup": "Underperforming",
                  "orientation": "h",
                  "showlegend": true,
                  "text": [
                    1478
                  ],
                  "textposition": "auto",
                  "type": "bar",
                  "x": [
                    1478
                  ],
                  "xaxis": "x",
                  "y": [
                    "Underperforming"
                  ],
                  "yaxis": "y"
                }
              ],
              "layout": {
                "barmode": "relative",
                "legend": {
                  "title": {
                    "text": "Status"
                  },
                  "tracegroupgap": 0
                },
                "margin": {
                  "t": 60
                },
                "plot_bgcolor": "white",
                "showlegend": true,
                "template": {
                  "data": {
                    "bar": [
                      {
                        "error_x": {
                          "color": "#2a3f5f"
                        },
                        "error_y": {
                          "color": "#2a3f5f"
                        },
                        "marker": {
                          "line": {
                            "color": "#E5ECF6",
                            "width": 0.5
                          },
                          "pattern": {
                            "fillmode": "overlay",
                            "size": 10,
                            "solidity": 0.2
                          }
                        },
                        "type": "bar"
                      }
                    ],
                    "barpolar": [
                      {
                        "marker": {
                          "line": {
                            "color": "#E5ECF6",
                            "width": 0.5
                          },
                          "pattern": {
                            "fillmode": "overlay",
                            "size": 10,
                            "solidity": 0.2
                          }
                        },
                        "type": "barpolar"
                      }
                    ],
                    "carpet": [
                      {
                        "aaxis": {
                          "endlinecolor": "#2a3f5f",
                          "gridcolor": "white",
                          "linecolor": "white",
                          "minorgridcolor": "white",
                          "startlinecolor": "#2a3f5f"
                        },
                        "baxis": {
                          "endlinecolor": "#2a3f5f",
                          "gridcolor": "white",
                          "linecolor": "white",
                          "minorgridcolor": "white",
                          "startlinecolor": "#2a3f5f"
                        },
                        "type": "carpet"
                      }
                    ],
                    "choropleth": [
                      {
                        "colorbar": {
                          "outlinewidth": 0,
                          "ticks": ""
                        },
                        "type": "choropleth"
                      }
                    ],
                    "contour": [
                      {
                        "colorbar": {
                          "outlinewidth": 0,
                          "ticks": ""
                        },
                        "colorscale": [
                          [
                            0,
                            "#0d0887"
                          ],
                          [
                            0.1111111111111111,
                            "#46039f"
                          ],
                          [
                            0.2222222222222222,
                            "#7201a8"
                          ],
                          [
                            0.3333333333333333,
                            "#9c179e"
                          ],
                          [
                            0.4444444444444444,
                            "#bd3786"
                          ],
                          [
                            0.5555555555555556,
                            "#d8576b"
                          ],
                          [
                            0.6666666666666666,
                            "#ed7953"
                          ],
                          [
                            0.7777777777777778,
                            "#fb9f3a"
                          ],
                          [
                            0.8888888888888888,
                            "#fdca26"
                          ],
                          [
                            1,
                            "#f0f921"
                          ]
                        ],
                        "type": "contour"
                      }
                    ],
                    "contourcarpet": [
                      {
                        "colorbar": {
                          "outlinewidth": 0,
                          "ticks": ""
                        },
                        "type": "contourcarpet"
                      }
                    ],
                    "heatmap": [
                      {
                        "colorbar": {
                          "outlinewidth": 0,
                          "ticks": ""
                        },
                        "colorscale": [
                          [
                            0,
                            "#0d0887"
                          ],
                          [
                            0.1111111111111111,
                            "#46039f"
                          ],
                          [
                            0.2222222222222222,
                            "#7201a8"
                          ],
                          [
                            0.3333333333333333,
                            "#9c179e"
                          ],
                          [
                            0.4444444444444444,
                            "#bd3786"
                          ],
                          [
                            0.5555555555555556,
                            "#d8576b"
                          ],
                          [
                            0.6666666666666666,
                            "#ed7953"
                          ],
                          [
                            0.7777777777777778,
                            "#fb9f3a"
                          ],
                          [
                            0.8888888888888888,
                            "#fdca26"
                          ],
                          [
                            1,
                            "#f0f921"
                          ]
                        ],
                        "type": "heatmap"
                      }
                    ],
                    "heatmapgl": [
                      {
                        "colorbar": {
                          "outlinewidth": 0,
                          "ticks": ""
                        },
                        "colorscale": [
                          [
                            0,
                            "#0d0887"
                          ],
                          [
                            0.1111111111111111,
                            "#46039f"
                          ],
                          [
                            0.2222222222222222,
                            "#7201a8"
                          ],
                          [
                            0.3333333333333333,
                            "#9c179e"
                          ],
                          [
                            0.4444444444444444,
                            "#bd3786"
                          ],
                          [
                            0.5555555555555556,
                            "#d8576b"
                          ],
                          [
                            0.6666666666666666,
                            "#ed7953"
                          ],
                          [
                            0.7777777777777778,
                            "#fb9f3a"
                          ],
                          [
                            0.8888888888888888,
                            "#fdca26"
                          ],
                          [
                            1,
                            "#f0f921"
                          ]
                        ],
                        "type": "heatmapgl"
                      }
                    ],
                    "histogram": [
                      {
                        "marker": {
                          "pattern": {
                            "fillmode": "overlay",
                            "size": 10,
                            "solidity": 0.2
                          }
                        },
                        "type": "histogram"
                      }
                    ],
                    "histogram2d": [
                      {
                        "colorbar": {
                          "outlinewidth": 0,
                          "ticks": ""
                        },
                        "colorscale": [
                          [
                            0,
                            "#0d0887"
                          ],
                          [
                            0.1111111111111111,
                            "#46039f"
                          ],
                          [
                            0.2222222222222222,
                            "#7201a8"
                          ],
                          [
                            0.3333333333333333,
                            "#9c179e"
                          ],
                          [
                            0.4444444444444444,
                            "#bd3786"
                          ],
                          [
                            0.5555555555555556,
                            "#d8576b"
                          ],
                          [
                            0.6666666666666666,
                            "#ed7953"
                          ],
                          [
                            0.7777777777777778,
                            "#fb9f3a"
                          ],
                          [
                            0.8888888888888888,
                            "#fdca26"
                          ],
                          [
                            1,
                            "#f0f921"
                          ]
                        ],
                        "type": "histogram2d"
                      }
                    ],
                    "histogram2dcontour": [
                      {
                        "colorbar": {
                          "outlinewidth": 0,
                          "ticks": ""
                        },
                        "colorscale": [
                          [
                            0,
                            "#0d0887"
                          ],
                          [
                            0.1111111111111111,
                            "#46039f"
                          ],
                          [
                            0.2222222222222222,
                            "#7201a8"
                          ],
                          [
                            0.3333333333333333,
                            "#9c179e"
                          ],
                          [
                            0.4444444444444444,
                            "#bd3786"
                          ],
                          [
                            0.5555555555555556,
                            "#d8576b"
                          ],
                          [
                            0.6666666666666666,
                            "#ed7953"
                          ],
                          [
                            0.7777777777777778,
                            "#fb9f3a"
                          ],
                          [
                            0.8888888888888888,
                            "#fdca26"
                          ],
                          [
                            1,
                            "#f0f921"
                          ]
                        ],
                        "type": "histogram2dcontour"
                      }
                    ],
                    "mesh3d": [
                      {
                        "colorbar": {
                          "outlinewidth": 0,
                          "ticks": ""
                        },
                        "type": "mesh3d"
                      }
                    ],
                    "parcoords": [
                      {
                        "line": {
                          "colorbar": {
                            "outlinewidth": 0,
                            "ticks": ""
                          }
                        },
                        "type": "parcoords"
                      }
                    ],
                    "pie": [
                      {
                        "automargin": true,
                        "type": "pie"
                      }
                    ],
                    "scatter": [
                      {
                        "marker": {
                          "colorbar": {
                            "outlinewidth": 0,
                            "ticks": ""
                          }
                        },
                        "type": "scatter"
                      }
                    ],
                    "scatter3d": [
                      {
                        "line": {
                          "colorbar": {
                            "outlinewidth": 0,
                            "ticks": ""
                          }
                        },
                        "marker": {
                          "colorbar": {
                            "outlinewidth": 0,
                            "ticks": ""
                          }
                        },
                        "type": "scatter3d"
                      }
                    ],
                    "scattercarpet": [
                      {
                        "marker": {
                          "colorbar": {
                            "outlinewidth": 0,
                            "ticks": ""
                          }
                        },
                        "type": "scattercarpet"
                      }
                    ],
                    "scattergeo": [
                      {
                        "marker": {
                          "colorbar": {
                            "outlinewidth": 0,
                            "ticks": ""
                          }
                        },
                        "type": "scattergeo"
                      }
                    ],
                    "scattergl": [
                      {
                        "marker": {
                          "colorbar": {
                            "outlinewidth": 0,
                            "ticks": ""
                          }
                        },
                        "type": "scattergl"
                      }
                    ],
                    "scattermapbox": [
                      {
                        "marker": {
                          "colorbar": {
                            "outlinewidth": 0,
                            "ticks": ""
                          }
                        },
                        "type": "scattermapbox"
                      }
                    ],
                    "scatterpolar": [
                      {
                        "marker": {
                          "colorbar": {
                            "outlinewidth": 0,
                            "ticks": ""
                          }
                        },
                        "type": "scatterpolar"
                      }
                    ],
                    "scatterpolargl": [
                      {
                        "marker": {
                          "colorbar": {
                            "outlinewidth": 0,
                            "ticks": ""
                          }
                        },
                        "type": "scatterpolargl"
                      }
                    ],
                    "scatterternary": [
                      {
                        "marker": {
                          "colorbar": {
                            "outlinewidth": 0,
                            "ticks": ""
                          }
                        },
                        "type": "scatterternary"
                      }
                    ],
                    "surface": [
                      {
                        "colorbar": {
                          "outlinewidth": 0,
                          "ticks": ""
                        },
                        "colorscale": [
                          [
                            0,
                            "#0d0887"
                          ],
                          [
                            0.1111111111111111,
                            "#46039f"
                          ],
                          [
                            0.2222222222222222,
                            "#7201a8"
                          ],
                          [
                            0.3333333333333333,
                            "#9c179e"
                          ],
                          [
                            0.4444444444444444,
                            "#bd3786"
                          ],
                          [
                            0.5555555555555556,
                            "#d8576b"
                          ],
                          [
                            0.6666666666666666,
                            "#ed7953"
                          ],
                          [
                            0.7777777777777778,
                            "#fb9f3a"
                          ],
                          [
                            0.8888888888888888,
                            "#fdca26"
                          ],
                          [
                            1,
                            "#f0f921"
                          ]
                        ],
                        "type": "surface"
                      }
                    ],
                    "table": [
                      {
                        "cells": {
                          "fill": {
                            "color": "#EBF0F8"
                          },
                          "line": {
                            "color": "white"
                          }
                        },
                        "header": {
                          "fill": {
                            "color": "#C8D4E3"
                          },
                          "line": {
                            "color": "white"
                          }
                        },
                        "type": "table"
                      }
                    ]
                  },
                  "layout": {
                    "annotationdefaults": {
                      "arrowcolor": "#2a3f5f",
                      "arrowhead": 0,
                      "arrowwidth": 1
                    },
                    "autotypenumbers": "strict",
                    "coloraxis": {
                      "colorbar": {
                        "outlinewidth": 0,
                        "ticks": ""
                      }
                    },
                    "colorscale": {
                      "diverging": [
                        [
                          0,
                          "#8e0152"
                        ],
                        [
                          0.1,
                          "#c51b7d"
                        ],
                        [
                          0.2,
                          "#de77ae"
                        ],
                        [
                          0.3,
                          "#f1b6da"
                        ],
                        [
                          0.4,
                          "#fde0ef"
                        ],
                        [
                          0.5,
                          "#f7f7f7"
                        ],
                        [
                          0.6,
                          "#e6f5d0"
                        ],
                        [
                          0.7,
                          "#b8e186"
                        ],
                        [
                          0.8,
                          "#7fbc41"
                        ],
                        [
                          0.9,
                          "#4d9221"
                        ],
                        [
                          1,
                          "#276419"
                        ]
                      ],
                      "sequential": [
                        [
                          0,
                          "#0d0887"
                        ],
                        [
                          0.1111111111111111,
                          "#46039f"
                        ],
                        [
                          0.2222222222222222,
                          "#7201a8"
                        ],
                        [
                          0.3333333333333333,
                          "#9c179e"
                        ],
                        [
                          0.4444444444444444,
                          "#bd3786"
                        ],
                        [
                          0.5555555555555556,
                          "#d8576b"
                        ],
                        [
                          0.6666666666666666,
                          "#ed7953"
                        ],
                        [
                          0.7777777777777778,
                          "#fb9f3a"
                        ],
                        [
                          0.8888888888888888,
                          "#fdca26"
                        ],
                        [
                          1,
                          "#f0f921"
                        ]
                      ],
                      "sequentialminus": [
                        [
                          0,
                          "#0d0887"
                        ],
                        [
                          0.1111111111111111,
                          "#46039f"
                        ],
                        [
                          0.2222222222222222,
                          "#7201a8"
                        ],
                        [
                          0.3333333333333333,
                          "#9c179e"
                        ],
                        [
                          0.4444444444444444,
                          "#bd3786"
                        ],
                        [
                          0.5555555555555556,
                          "#d8576b"
                        ],
                        [
                          0.6666666666666666,
                          "#ed7953"
                        ],
                        [
                          0.7777777777777778,
                          "#fb9f3a"
                        ],
                        [
                          0.8888888888888888,
                          "#fdca26"
                        ],
                        [
                          1,
                          "#f0f921"
                        ]
                      ]
                    },
                    "colorway": [
                      "#636efa",
                      "#EF553B",
                      "#00cc96",
                      "#ab63fa",
                      "#FFA15A",
                      "#19d3f3",
                      "#FF6692",
                      "#B6E880",
                      "#FF97FF",
                      "#FECB52"
                    ],
                    "font": {
                      "color": "#2a3f5f"
                    },
                    "geo": {
                      "bgcolor": "white",
                      "lakecolor": "white",
                      "landcolor": "#E5ECF6",
                      "showlakes": true,
                      "showland": true,
                      "subunitcolor": "white"
                    },
                    "hoverlabel": {
                      "align": "left"
                    },
                    "hovermode": "closest",
                    "mapbox": {
                      "style": "light"
                    },
                    "paper_bgcolor": "white",
                    "plot_bgcolor": "#E5ECF6",
                    "polar": {
                      "angularaxis": {
                        "gridcolor": "white",
                        "linecolor": "white",
                        "ticks": ""
                      },
                      "bgcolor": "#E5ECF6",
                      "radialaxis": {
                        "gridcolor": "white",
                        "linecolor": "white",
                        "ticks": ""
                      }
                    },
                    "scene": {
                      "xaxis": {
                        "backgroundcolor": "#E5ECF6",
                        "gridcolor": "white",
                        "gridwidth": 2,
                        "linecolor": "white",
                        "showbackground": true,
                        "ticks": "",
                        "zerolinecolor": "white"
                      },
                      "yaxis": {
                        "backgroundcolor": "#E5ECF6",
                        "gridcolor": "white",
                        "gridwidth": 2,
                        "linecolor": "white",
                        "showbackground": true,
                        "ticks": "",
                        "zerolinecolor": "white"
                      },
                      "zaxis": {
                        "backgroundcolor": "#E5ECF6",
                        "gridcolor": "white",
                        "gridwidth": 2,
                        "linecolor": "white",
                        "showbackground": true,
                        "ticks": "",
                        "zerolinecolor": "white"
                      }
                    },
                    "shapedefaults": {
                      "line": {
                        "color": "#2a3f5f"
                      }
                    },
                    "ternary": {
                      "aaxis": {
                        "gridcolor": "white",
                        "linecolor": "white",
                        "ticks": ""
                      },
                      "baxis": {
                        "gridcolor": "white",
                        "linecolor": "white",
                        "ticks": ""
                      },
                      "bgcolor": "#E5ECF6",
                      "caxis": {
                        "gridcolor": "white",
                        "linecolor": "white",
                        "ticks": ""
                      }
                    },
                    "title": {
                      "x": 0.05
                    },
                    "xaxis": {
                      "automargin": true,
                      "gridcolor": "white",
                      "linecolor": "white",
                      "ticks": "",
                      "title": {
                        "standoff": 15
                      },
                      "zerolinecolor": "white",
                      "zerolinewidth": 2
                    },
                    "yaxis": {
                      "automargin": true,
                      "gridcolor": "white",
                      "linecolor": "white",
                      "ticks": "",
                      "title": {
                        "standoff": 15
                      },
                      "zerolinecolor": "white",
                      "zerolinewidth": 2
                    }
                  }
                },
                "xaxis": {
                  "anchor": "y",
                  "domain": [
                    0,
                    1
                  ],
                  "showgrid": false,
                  "showline": true,
                  "showticklabels": true,
                  "title": {
                    "text": "counts"
                  },
                  "zeroline": false
                },
                "yaxis": {
                  "anchor": "x",
                  "categoryarray": [
                    "Underperforming",
                    "Normal",
                    "Anomaly Reading"
                  ],
                  "categoryorder": "array",
                  "domain": [
                    0,
                    1
                  ],
                  "showgrid": false,
                  "showline": true,
                  "showticklabels": true,
                  "title": {
                    "text": "Status"
                  },
                  "zeroline": false
                }
              }
            }
          },
          "metadata": {},
          "output_type": "display_data"
        }
      ],
      "source": [
        "# Group the DataFrame by 'Status' and count the size of each group\n",
        "status_counts = df.groupby('Status').size().reset_index(name='counts')\n",
        "\n",
        "# Create the horizontal bar plot using Plotly\n",
        "fig = px.bar(status_counts, x='counts', y='Status', orientation='h', \n",
        "             color='Status', text='counts', color_discrete_sequence=px.colors.qualitative.Dark2)\n",
        "\n",
        "# Update the layout to show the legend and hide the top and right spines (axes)\n",
        "fig.update_layout(\n",
        "    showlegend=True,\n",
        "    xaxis=dict(showline=True, showgrid=False, showticklabels=True, zeroline=False),\n",
        "    yaxis=dict(showline=True, showgrid=False, showticklabels=True, zeroline=False),\n",
        "    plot_bgcolor='white'\n",
        ")\n",
        "\n",
        "# Update the trace to format the text position\n",
        "fig.update_traces(textposition='auto')\n",
        "\n",
        "fig.show()"
      ]
    },
    {
      "cell_type": "code",
      "execution_count": null,
      "metadata": {
        "id": "oh5vLGWKc2qC"
      },
      "outputs": [],
      "source": []
    }
  ],
  "metadata": {
    "colab": {
      "provenance": []
    },
    "kernelspec": {
      "display_name": "Python 3",
      "name": "python3"
    },
    "language_info": {
      "codemirror_mode": {
        "name": "ipython",
        "version": 3
      },
      "file_extension": ".py",
      "mimetype": "text/x-python",
      "name": "python",
      "nbconvert_exporter": "python",
      "pygments_lexer": "ipython3",
      "version": "3.9.12"
    }
  },
  "nbformat": 4,
  "nbformat_minor": 0
}
